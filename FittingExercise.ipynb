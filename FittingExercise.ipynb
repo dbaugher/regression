{
 "cells": [
  {
   "cell_type": "markdown",
   "metadata": {},
   "source": [
    "# Fitting of experimental chemical kinetics data\n",
    "You perform some experiments in a batch reactor to determine the rate expression and thermochemistry for the reversible chemical reaction\n",
    "$\\require{mhchem}$\n",
    "$$\\ce{A <=> B}$$\n",
    "\n",
    "Recall from thermodynamics that \n",
    "$\\Delta G = \\Delta H - T \\Delta S$\n",
    "and $\\Delta G = R T \\ln K_a$\n",
    "where $K_a$ is the activity-based equilibrium constant of the chemical reaction, $R$ is the molar gas constant (8.314 J/mol/K) and $T$ is the temperature in Kelvin.\n",
    "\n",
    "If we assume ideal solution (unit fugacity coefficients) then $K_a = K_c$ giving us the concentration-based equilibrium constant $K_c$. \n",
    "From kinetics you recall\n",
    "$K_c = \\frac{k_f}{k_r}$ \n",
    "where \n",
    "$k_f$ is the forward rate coefficient and $k_r$ is the reverse rate coefficient.\n",
    "i.e. the rate of the reaction $\\ce{A->B}$ is $k_f \\times C_A$\n",
    "and the reverse reaction $\\ce{B->A}$ is $k_r \\times C_B$\n",
    "where $C_A$ and $C_B$ are the concentrations of species A and B respectively. \n",
    "In a batch reactor $\\frac{dN_A}{dt} = r_{A(net)} V$, so (dividing through by the reactor volume $V$) $\\frac{dC_A}{dt} = r_{A(net)}$ where $r_{A(net)}$ is the net rate of formation of species A, i.e. $r_{A(net)} = k_r C_B - k_f C_A$.\n",
    "Assume the forward rate coefficient $k_f$ follows Arrhenius form, $k_f = A \\exp\\left(\\frac{-E_A}{R T}\\right)$ where $A$ is the \"pre-exponential factor\" and $E_A$ is the activation energy.\n",
    "\n",
    "Fortunately, in this case you have good reason to believe that species A and B have very similar temperature-dependent heat capacities, so that $\\Delta H_{rxn}$ and $\\Delta S_{rxn}$ are independent of temperature.\n",
    "\n",
    "You start the experiment with no B ($C_B=0$), and at time zero have some way to initiate the reaction, starting with a set concentration of $C_A$. \n",
    "\n",
    "You wish to determine the four paramaters:\n",
    "$log_{10} A$,\n",
    "$E_A$,\n",
    "$\\Delta H_{rxn}$,\n",
    "$\\Delta S_{rxn}$.\n",
    "\n",
    "Based on a literature search, quantum chemistry calculations, and prior experience, your current estimates are as follows:\n",
    "```\n",
    "logA = 6.  # base-ten logarithm of A in s^-1\n",
    "Ea = 45.   # Ea in kJ/mol\n",
    "dH = -10.  # ∆H in kJ/mol\n",
    "dS = -50.  # ∆S in J/mol/K\n",
    "```\n"
   ]
  },
  {
   "cell_type": "code",
   "execution_count": 1,
   "metadata": {
    "collapsed": true
   },
   "outputs": [],
   "source": [
    "%matplotlib inline\n",
    "import numpy as np\n",
    "import scipy.integrate\n",
    "from matplotlib import pyplot as plt\n",
    "\n",
    "import random\n",
    "import SALib as sa\n",
    "import SALib.sample\n",
    "# from SALib.sample import morris as ms\n",
    "# from SALib.analyze import morris as ma\n",
    "# from SALib.plotting import morris as mp\n"
   ]
  },
  {
   "cell_type": "code",
   "execution_count": 2,
   "metadata": {
    "collapsed": true
   },
   "outputs": [],
   "source": [
    "# This cell just tries to make graphs look nicer\n",
    "try:\n",
    "    import seaborn as sns\n",
    "except ImportError:\n",
    "    # This block will be run if there's an ImportError, i.e you don't have seaborn installed.\n",
    "    sns = False\n",
    "    print (\"If you want to try different figure formatting, \"\n",
    "           \"type 'conda install seaborn' at an anaconda command prompt or terminal. \"\n",
    "           \"See https://stanford.edu/~mwaskom/software/seaborn/ for details\")\n",
    "    # If not using seaborn, we can still control the size of the figures this way\n",
    "    from pylab import rcParams\n",
    "    rcParams['figure.figsize'] = 3, 3\n",
    "else:\n",
    "    # This block will be run if there is no ImportError\n",
    "    sns.set_style(\"ticks\")\n",
    "    sns.set_context(\"paper\",rc={\"figure.figsize\": (2, 2)})"
   ]
  },
  {
   "cell_type": "markdown",
   "metadata": {},
   "source": [
    "We create a \"named tuple\" data type to store the exprimental data in."
   ]
  },
  {
   "cell_type": "code",
   "execution_count": 3,
   "metadata": {
    "collapsed": false
   },
   "outputs": [],
   "source": [
    "from collections import namedtuple\n",
    "ExperimentData = namedtuple('ExperimentData', ['T', 'cA_start', 'times', 'cA'])\n",
    "\n",
    "def plot_experiment(e):\n",
    "    \"\"\"\n",
    "    Plots the experimental data provided in 'e' \n",
    "    which should be of the type ExperimentData.\n",
    "    \"\"\"\n",
    "    plt.plot(0, e.cA_start, 'ko')\n",
    "    plt.plot(e.times, e.cA,':o', label=\"T={:.0f}K\".format(e.T))\n",
    "    plt.ylim(0,)\n",
    "    plt.ylabel('$C_A$ (mol/L)')\n",
    "    plt.xlabel('time (s)')\n",
    "    plt.legend()"
   ]
  },
  {
   "cell_type": "markdown",
   "metadata": {},
   "source": [
    "Now here are the data from your three experiments:"
   ]
  },
  {
   "cell_type": "code",
   "execution_count": 4,
   "metadata": {
    "collapsed": false
   },
   "outputs": [
    {
     "name": "stdout",
     "output_type": "stream",
     "text": [
      "Experiment 0 was at T=298.15K and ran for 100 seconds\n",
      "Experiment 1 was at T=308.15K and ran for 100 seconds\n",
      "Experiment 2 was at T=323.15K and ran for 100 seconds\n"
     ]
    },
    {
     "data": {
      "image/png": "[encoded data removed]",
      "text/plain": [
       "<matplotlib.figure.Figure at 0x114b250b8>"
      ]
     },
     "metadata": {},
     "output_type": "display_data"
    }
   ],
   "source": [
    "from numpy import array\n",
    "experiments = [ExperimentData(T=298.15, \n",
    "                              cA_start=10.0, \n",
    "                              times=array([ 10,  20,  30,  40,  50,  60,  70,  80,  90, 100]), \n",
    "                              cA=array([ 8.649,  7.441,  7.141,  6.366,  6.215, 5.990, 5.852,  5.615,  5.481 ,  5.644])), \n",
    "               ExperimentData(T=308.15, \n",
    "                              cA_start=10.0, \n",
    "                              times=array([ 10,  20,  30,  40,  50,  60,  70,  80,  90, 100]), \n",
    "                              cA=array([ 7.230,  6.073,  5.452,  5.317,  5.121, 4.998,  4.951,  4.978,  5.015,  5.036])), \n",
    "               ExperimentData(T=323.15, \n",
    "                              cA_start=10.0, \n",
    "                              times=array([ 10,  20,  30,  40,  50,  60,  70,  80,  90, 100]), \n",
    "                              cA=array([ 5.137,  4.568,  4.548,  4.461,  4.382, 4.525,  4.483,  4.565,  4.459,  4.635])),\n",
    "              ]\n",
    "\n",
    "for i,e in enumerate(experiments):\n",
    "    print(\"Experiment {} was at T={}K and ran for {} seconds\".format(i, e.T, e.times[-1]))\n",
    "    plot_experiment(e)"
   ]
  },
  {
   "cell_type": "code",
   "execution_count": 5,
   "metadata": {
    "collapsed": false
   },
   "outputs": [],
   "source": [
    "ParameterSet = namedtuple('ParameterSet', ['logA', 'Ea', 'dH', 'dS'])\n",
    "\n",
    "# This is a sensible starting guess for your fitting\n",
    "starting_guess = ParameterSet(\n",
    "    logA = 6. , # base-ten logarithm of A in s^-1\n",
    "    Ea = 45. , # Ea in kJ/mol\n",
    "    dH = -10. , # ∆H in kJ/mol\n",
    "    dS = -50.  # ∆S in J/mol/K\n",
    "    )\n",
    "\n",
    "# This should end up with your optimized parameters\n",
    "optimized_parameters = ParameterSet(0,0,0,0)\n",
    "\n",
    "\n",
    "# This should end up with your standard errors (one sigma)\n",
    "# for the uncertainties in the fitted parameters.\n",
    "# i.e. there should be a 68% chance the true value is \n",
    "# at least this close to your optimized parameter.\n",
    "standard_errors = ParameterSet(0,0,0,0)\n"
   ]
  },
  {
   "cell_type": "markdown",
   "metadata": {},
   "source": [
    "Ok, now insert some cells to determine the optimized_parameters and their standard_errors."
   ]
  },
  {
   "cell_type": "code",
   "execution_count": 6,
   "metadata": {
    "collapsed": false
   },
   "outputs": [
    {
     "name": "stdout",
     "output_type": "stream",
     "text": [
      "In total will have M=30 x_data entries\n",
      "each with k=2 values, T and t\n",
      "and M=30 y_data entries, each being a concentration.\n",
      "x_data =  array([[ 298.15,  298.15,  298.15,  298.15,  298.15,  298.15,  298.15,\n",
      "         298.15,  298.15,  298.15,  308.15,  308.15,  308.15,  308.15,\n",
      "         308.15,  308.15,  308.15,  308.15,  308.15,  308.15,  323.15,\n",
      "         323.15,  323.15,  323.15,  323.15,  323.15,  323.15,  323.15,\n",
      "         323.15,  323.15],\n",
      "       [  10.  ,   20.  ,   30.  ,   40.  ,   50.  ,   60.  ,   70.  ,\n",
      "          80.  ,   90.  ,  100.  ,   10.  ,   20.  ,   30.  ,   40.  ,\n",
      "          50.  ,   60.  ,   70.  ,   80.  ,   90.  ,  100.  ,   10.  ,\n",
      "          20.  ,   30.  ,   40.  ,   50.  ,   60.  ,   70.  ,   80.  ,\n",
      "          90.  ,  100.  ]])\n",
      "y_data =  array([ 8.649,  7.441,  7.141,  6.366,  6.215,  5.99 ,  5.852,  5.615,\n",
      "        5.481,  5.644,  7.23 ,  6.073,  5.452,  5.317,  5.121,  4.998,\n",
      "        4.951,  4.978,  5.015,  5.036,  5.137,  4.568,  4.548,  4.461,\n",
      "        4.382,  4.525,  4.483,  4.565,  4.459,  4.635])\n"
     ]
    }
   ],
   "source": [
    "M = sum((len(e.times) for e in experiments))\n",
    "print(\"In total will have M={} x_data entries\".format(M))\n",
    "print(\"each with k=2 values, T and t\")\n",
    "print(\"and M={} y_data entries, each being a concentration.\".format(M))\n",
    "x_data = np.zeros((2,M))\n",
    "y_data = np.zeros(M)\n",
    "i=0\n",
    "for e in experiments:\n",
    "    for time, cA in zip(e.times, e.cA):\n",
    "        x_data[0,i] = e.T\n",
    "        x_data[1,i] = time\n",
    "        y_data[i] = cA\n",
    "        i += 1\n",
    "print('x_data = ',repr(x_data))\n",
    "print('y_data = ',repr(y_data))"
   ]
  },
  {
   "cell_type": "code",
   "execution_count": 7,
   "metadata": {
    "collapsed": false
   },
   "outputs": [
    {
     "data": {
      "text/plain": [
       "array([ 7.12257881])"
      ]
     },
     "execution_count": 7,
     "metadata": {},
     "output_type": "execute_result"
    }
   ],
   "source": [
    "cA_start = 10.\n",
    "def my_model(x_data,\n",
    "          logA,  # /s \n",
    "          Ea,  # kJ/mol\n",
    "          dH, # kJ/mol\n",
    "          dS,  # J/mol/K\n",
    "         ):\n",
    "    Ts, ts = x_data\n",
    "    M = len(Ts) # number of data points\n",
    "    y_data = np.zeros(M)\n",
    "    for i in range(M):\n",
    "        t = ts[i]\n",
    "        T = Ts[i]\n",
    "        R = 8.314 # J/mol/K\n",
    "        kf = 10**logA * np.exp(-Ea*1e3 / (R * T))\n",
    "        dG = dH*1e3 - T * dS # J/mol\n",
    "        Ka = np.exp(-dG / (R * T))\n",
    "        Kc = Ka # ideal solution, unit activity is 1 M\n",
    "        kr = kf / Kc\n",
    "        def dcAdt(cA, t):\n",
    "            cB = cA_start - cA\n",
    "            return kf * cB - kr * cA\n",
    "        result = scipy.integrate.odeint(dcAdt, cA_start, [0,t])\n",
    "        cA = result[-1,0]\n",
    "        y_data[i] = cA\n",
    "    return y_data\n",
    "my_model(np.array([[298],[10]]), 7,50,-10,-40,)"
   ]
  },
  {
   "cell_type": "code",
   "execution_count": 8,
   "metadata": {
    "collapsed": false
   },
   "outputs": [
    {
     "name": "stdout",
     "output_type": "stream",
     "text": [
      "fitted [  7.53752278  52.77627099 -11.5315229  -37.34953275]\n",
      "+/- [ 0.43279535  2.54099874  0.79049444  2.51290283] (one sigma)\n",
      "[[ 0.18731181  1.09920092  0.20901832  0.66698384]\n",
      " [ 1.09920092  6.45667462  1.25585698  4.00358094]\n",
      " [ 0.20901832  1.25585698  0.62488146  1.98556696]\n",
      " [ 0.66698384  4.00358094  1.98556696  6.31468064]]\n",
      "ParameterSet(logA=7.5375227812900878, Ea=52.776270990593282, dH=-11.531522898616284, dS=-37.349532746201547)\n",
      "ParameterSet(logA=0.43279534968837052, Ea=2.540998743700754, dH=0.79049443823588528, dS=2.512902831838947)\n"
     ]
    }
   ],
   "source": [
    "optimal_parameters, covariance = scipy.optimize.curve_fit(my_model,\n",
    "                                                          x_data,\n",
    "                                                          y_data,\n",
    "                                                         p0=starting_guess,\n",
    "                                                         method='trf')\n",
    "\n",
    "print('fitted',optimal_parameters)\n",
    "stdev = np.sqrt(np.diag(covariance))\n",
    "print('+/-',stdev,'(one sigma)')\n",
    "\n",
    "print(covariance)\n",
    "optimized_parameters = ParameterSet(*optimal_parameters)\n",
    "print(optimized_parameters)\n",
    "\n",
    "standard_errors = ParameterSet(*stdev)\n",
    "print(standard_errors)"
   ]
  },
  {
   "cell_type": "code",
   "execution_count": 9,
   "metadata": {
    "collapsed": false
   },
   "outputs": [
    {
     "name": "stdout",
     "output_type": "stream",
     "text": [
      "ParameterSet(logA=6.0, Ea=45.0, dH=-10.0, dS=-50.0)\n",
      "ParameterSet(logA=7.5375227812900878, Ea=52.776270990593282, dH=-11.531522898616284, dS=-37.349532746201547)\n",
      "ParameterSet(logA=0.43279534968837052, Ea=2.540998743700754, dH=0.79049443823588528, dS=2.512902831838947)\n"
     ]
    }
   ],
   "source": [
    "# Finish your notebook with this cell\n",
    "print(starting_guess)\n",
    "print(optimized_parameters)\n",
    "print(standard_errors)"
   ]
  },
  {
   "cell_type": "markdown",
   "metadata": {},
   "source": [
    "# Testing\n",
    "This checks the output against the \"true\" values"
   ]
  },
  {
   "cell_type": "code",
   "execution_count": 10,
   "metadata": {
    "collapsed": false
   },
   "outputs": [
    {
     "name": "stdout",
     "output_type": "stream",
     "text": [
      "How many 'standard errors' from the true value was the optimized value?:\n",
      "logA 1.47303519261\n",
      "Ea 1.48613650438\n",
      "dH 1.85766911234\n",
      "dS 1.85063552592\n"
     ]
    }
   ],
   "source": [
    "true_params = ParameterSet(6.9, # logA in mol/L/s\n",
    "                49., # Ea kJ/mol\n",
    "                -13., # ∆H kJ/mol\n",
    "                -42.# ∆S J/mol/K\n",
    "                )\n",
    "print(\"How many 'standard errors' from the true value was the optimized value?:\")\n",
    "discrepancy = (array(optimized_parameters) - array(true_params)) / array(standard_errors)\n",
    "discrepancy = ParameterSet(*discrepancy)\n",
    "for key,value in discrepancy._asdict().items():\n",
    "    print(key,value)"
   ]
  },
  {
   "cell_type": "markdown",
   "metadata": {},
   "source": [
    "# The source data\n",
    "This is how I generated the \"experimental\" data"
   ]
  },
  {
   "cell_type": "code",
   "execution_count": 11,
   "metadata": {
    "collapsed": false
   },
   "outputs": [
    {
     "data": {
      "image/png": "[encoded data removed]",
      "text/plain": [
       "<matplotlib.figure.Figure at 0x116fe4e48>"
      ]
     },
     "metadata": {},
     "output_type": "display_data"
    }
   ],
   "source": [
    "true_params = ParameterSet(6.9, # logA in mol/L/s\n",
    "                49., # Ea kJ/mol\n",
    "                -13., # ∆H kJ/mol\n",
    "                -42.# ∆S J/mol/K\n",
    "                )\n",
    "\n",
    "\n",
    "def source_model(logA = true_params[0], # mol/L/s \n",
    "          Ea = true_params[1],  # kJ/mol\n",
    "          dH = true_params[2],  # kJ/mol\n",
    "          dS = true_params[3],  # J/mol/K\n",
    "          T = 298.,   # K\n",
    "          cA_start = 10., # mol/L\n",
    "          end_time = 100., # s\n",
    "          plot = False,\n",
    "          times = None,\n",
    "         ):\n",
    "    \n",
    "    R = 8.314 # J/mol/K\n",
    "    kf = 10**logA * np.exp(-Ea*1e3 / (R * T))\n",
    "    dG = dH*1e3 - T * dS # J/mol\n",
    "    Ka = np.exp(-dG / (R * T))\n",
    "    Kc = Ka # ideal solution, unit activity is 1 M\n",
    "    kr = kf / Kc\n",
    "    \n",
    "    if times is None:\n",
    "        times = np.linspace(0,end_time)\n",
    "    assert times[0]==0, \"Initial value problem needs to have t=0 at start\"\n",
    "    def dcAdt(cA, t):\n",
    "        cB = cA_start - cA\n",
    "        return kf * cB - kr * cA\n",
    "    result = scipy.integrate.odeint(dcAdt, cA_start, times)\n",
    "    result = result.T\n",
    "    if plot:\n",
    "        plt.plot(times, result[0])\n",
    "        plt.ylim(0,)\n",
    "        plt.ylabel('$C_A$')\n",
    "        plt.xlabel('time')\n",
    "    return times, result.T\n",
    "\n",
    "times, result = source_model(plot=True)"
   ]
  },
  {
   "cell_type": "code",
   "execution_count": 12,
   "metadata": {
    "collapsed": true
   },
   "outputs": [],
   "source": [
    "def experiment(cA_start, T, measure_times,\n",
    "              T_stdev = 1.,\n",
    "              time_stdev = 0.5,\n",
    "              time_offset_stdev = 1.0,\n",
    "              measurement_stdev = 0.1):\n",
    "    \n",
    "    # T_stdev = time_stdev = time_offset_stdev = measurement_stdev = 1e-8 # turn off errors\n",
    "\n",
    "    # Just for the plot\n",
    "    times,values = source_model(cA_start = cA_start,\n",
    "                        T = T,\n",
    "                        plot = True)\n",
    "    \n",
    "    offset = np.random.normal(scale=time_offset_stdev)\n",
    "    \n",
    "    time_errors = np.random.normal(scale=time_stdev, size=measure_times.shape)\n",
    "    ode_times = np.append([0],measure_times + time_errors + offset)\n",
    "    times,values = source_model(cA_start = cA_start,\n",
    "                         T = T + np.random.normal(scale=T_stdev),\n",
    "                        times = ode_times)\n",
    "    measured_times = times[1:]\n",
    "    measured_values = values[1:,0]\n",
    "    #print(measured_values)\n",
    "    measured_values += np.random.normal(scale=measurement_stdev, size=measured_values.shape)\n",
    "    plt.plot(measure_times,measured_values,'ro')\n",
    "    plt.title(\"T={:.0f}K\".format(T))\n",
    "    return ExperimentData(\n",
    "        T = T,\n",
    "        cA_start = cA_start,\n",
    "        times = measure_times,\n",
    "        cA = measured_values\n",
    "        )"
   ]
  },
  {
   "cell_type": "code",
   "execution_count": 13,
   "metadata": {
    "collapsed": false
   },
   "outputs": [
    {
     "data": {
      "image/png": "[encoded data removed]",
      "text/plain": [
       "<matplotlib.figure.Figure at 0x1176e50f0>"
      ]
     },
     "metadata": {},
     "output_type": "display_data"
    },
    {
     "data": {
      "image/png": "[encoded data removed]",
      "text/plain": [
       "<matplotlib.figure.Figure at 0x116fe75f8>"
      ]
     },
     "metadata": {},
     "output_type": "display_data"
    },
    {
     "data": {
      "image/png": "[encoded data removed]",
      "text/plain": [
       "<matplotlib.figure.Figure at 0x1174acba8>"
      ]
     },
     "metadata": {},
     "output_type": "display_data"
    }
   ],
   "source": [
    "# This will be different each time you run it, as I didn't seed the random number generator\n",
    "e1 = experiment(10., 273.15+25, np.arange(10,110,10))\n",
    "plt.show()\n",
    "e2 = experiment(10., 273.15+35, np.arange(10,110,10))\n",
    "plt.show()\n",
    "e3 = experiment(10., 273.15+50, np.arange(10,110,10))\n",
    "plt.show()\n",
    "\n",
    "experiments = [e1, e2, e3]"
   ]
  },
  {
   "cell_type": "code",
   "execution_count": 14,
   "metadata": {
    "collapsed": false
   },
   "outputs": [
    {
     "name": "stdout",
     "output_type": "stream",
     "text": [
      "experiments = [ExperimentData(T=298.15, cA_start=10.0, times=array([ 10,  20,  30,  40,  50,  60,  70,  80,  90, 100]), cA=array([ 8.59192688,  7.8925884 ,  7.04407964,  6.60250971,  6.31554902,\n",
      "        5.85211105,  5.82697177,  5.60859228,  5.48644599,  5.58135441])), ExperimentData(T=308.15, cA_start=10.0, times=array([ 10,  20,  30,  40,  50,  60,  70,  80,  90, 100]), cA=array([ 7.08539494,  5.97471819,  5.38627088,  5.00473262,  5.15927423,\n",
      "        4.98440261,  5.16327922,  5.02361014,  5.0045287 ,  4.97931548])), ExperimentData(T=323.15, cA_start=10.0, times=array([ 10,  20,  30,  40,  50,  60,  70,  80,  90, 100]), cA=array([ 5.46155862,  4.7184106 ,  4.65472987,  4.46524618,  4.47203969,\n",
      "        4.50621219,  4.41005526,  4.51969896,  4.48765806,  4.61134396]))]\n"
     ]
    },
    {
     "data": {
      "image/png": "[encoded data removed]",
      "text/plain": [
       "<matplotlib.figure.Figure at 0x1176e59b0>"
      ]
     },
     "metadata": {},
     "output_type": "display_data"
    }
   ],
   "source": [
    "for e in experiments:\n",
    "    plot_experiment(e)\n",
    "print('experiments =',repr(experiments))"
   ]
  },
  {
   "cell_type": "code",
   "execution_count": null,
   "metadata": {
    "collapsed": true
   },
   "outputs": [],
   "source": []
  }
 ],
 "metadata": {
  "anaconda-cloud": {},
  "kernelspec": {
   "display_name": "Python [conda env:py3]",
   "language": "python",
   "name": "conda-env-py3-py"
  },
  "language_info": {
   "codemirror_mode": {
    "name": "ipython",
    "version": 3
   },
   "file_extension": ".py",
   "mimetype": "text/x-python",
   "name": "python",
   "nbconvert_exporter": "python",
   "pygments_lexer": "ipython3",
   "version": "3.5.2"
  }
 },
 "nbformat": 4,
 "nbformat_minor": 1
}
